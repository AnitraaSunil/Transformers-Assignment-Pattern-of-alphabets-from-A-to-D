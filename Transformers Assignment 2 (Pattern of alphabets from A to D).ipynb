{
 "cells": [
  {
   "cell_type": "markdown",
   "id": "8be37350",
   "metadata": {},
   "source": [
    "# Pattern of alphabets (A to D) using for loop condition"
   ]
  },
  {
   "cell_type": "code",
   "execution_count": 1,
   "id": "22922c21",
   "metadata": {},
   "outputs": [
    {
     "name": "stdout",
     "output_type": "stream",
     "text": [
      "  *    \n",
      "*   *  \n",
      "* * *  \n",
      "*   *  \n",
      "*   *  \n"
     ]
    }
   ],
   "source": [
    "for row in range(5):\n",
    "    for col in range(3):\n",
    "        if row==0 and col==0 or row==0 and col==2 or row==1 and col==1 or row==3 and col==1 or row==4 and col==1:\n",
    "            print(end=\"  \")\n",
    "        else:\n",
    "            print(\"*\", end =\" \")\n",
    "    print(\" \")"
   ]
  },
  {
   "cell_type": "code",
   "execution_count": 2,
   "id": "c2d8feb8",
   "metadata": {},
   "outputs": [
    {
     "name": "stdout",
     "output_type": "stream",
     "text": [
      "* *    \n",
      "*   *  \n",
      "* * *  \n",
      "*   *  \n",
      "* *    \n"
     ]
    }
   ],
   "source": [
    "for row in range(5):\n",
    "    for col in range(3):\n",
    "        if row==0 and col==2 or row==1 and col==1 or row==3 and col==1 or row==4 and col==2:\n",
    "            print(end=\"  \")\n",
    "        else:\n",
    "            print(\"*\", end =\" \")\n",
    "    print(\" \")"
   ]
  },
  {
   "cell_type": "code",
   "execution_count": 3,
   "id": "ff11ee11",
   "metadata": {},
   "outputs": [
    {
     "name": "stdout",
     "output_type": "stream",
     "text": [
      "  * *  \n",
      "*      \n",
      "*      \n",
      "*      \n",
      "  * *  \n"
     ]
    }
   ],
   "source": [
    "for row in range(5):\n",
    "    for col in range(3):\n",
    "        if row==0 and col==0 or row==1 and col==1 or row==1 and col==2 or row==2 and col==1 or row==2 and col==2 or row==3 and col==1 or row==3 and col==2 or row==4 and col==0:\n",
    "            print(end=\"  \")\n",
    "        else:\n",
    "            print(\"*\", end =\" \")\n",
    "    print(\" \")"
   ]
  },
  {
   "cell_type": "code",
   "execution_count": 4,
   "id": "769a6eda",
   "metadata": {},
   "outputs": [
    {
     "name": "stdout",
     "output_type": "stream",
     "text": [
      "* *    \n",
      "*   *  \n",
      "*   *  \n",
      "*   *  \n",
      "* *    \n"
     ]
    }
   ],
   "source": [
    "for row in range(5):\n",
    "    for col in range(3):\n",
    "        if row==0 and col==2 or row==1 and col==1 or row==2 and col==1 or row==3 and col==1 or row==4 and col==2:\n",
    "            print(end=\"  \")\n",
    "        else:\n",
    "            print(\"*\", end =\" \")\n",
    "    print(\" \")"
   ]
  },
  {
   "cell_type": "code",
   "execution_count": null,
   "id": "5ceb8e85",
   "metadata": {},
   "outputs": [],
   "source": []
  }
 ],
 "metadata": {
  "kernelspec": {
   "display_name": "Python 3 (ipykernel)",
   "language": "python",
   "name": "python3"
  },
  "language_info": {
   "codemirror_mode": {
    "name": "ipython",
    "version": 3
   },
   "file_extension": ".py",
   "mimetype": "text/x-python",
   "name": "python",
   "nbconvert_exporter": "python",
   "pygments_lexer": "ipython3",
   "version": "3.10.9"
  }
 },
 "nbformat": 4,
 "nbformat_minor": 5
}
